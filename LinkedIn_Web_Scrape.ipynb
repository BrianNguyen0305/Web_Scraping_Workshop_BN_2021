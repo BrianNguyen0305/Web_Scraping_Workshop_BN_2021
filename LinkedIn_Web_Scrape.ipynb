{
  "nbformat": 4,
  "nbformat_minor": 0,
  "metadata": {
    "kernelspec": {
      "display_name": "Python 3",
      "language": "python",
      "name": "python3"
    },
    "language_info": {
      "codemirror_mode": {
        "name": "ipython",
        "version": 3
      },
      "file_extension": ".py",
      "mimetype": "text/x-python",
      "name": "python",
      "nbconvert_exporter": "python",
      "pygments_lexer": "ipython3",
      "version": "3.8.5"
    },
    "colab": {
      "name": "LinkedIn_Web_Scrape.ipynb",
      "provenance": [],
      "toc_visible": true,
      "include_colab_link": true
    }
  },
  "cells": [
    {
      "cell_type": "markdown",
      "metadata": {
        "id": "view-in-github",
        "colab_type": "text"
      },
      "source": [
        "<a href=\"https://colab.research.google.com/github/BrianNguyen0305/Web_Scraping_Workshop_BN_2021/blob/main/LinkedIn_Web_Scrape.ipynb\" target=\"_parent\"><img src=\"https://colab.research.google.com/assets/colab-badge.svg\" alt=\"Open In Colab\"/></a>"
      ]
    },
    {
      "cell_type": "code",
      "metadata": {
        "colab": {
          "base_uri": "https://localhost:8080/"
        },
        "id": "ZwdWU49i7meq",
        "outputId": "52b570bf-5dd0-4bf5-9c5d-5954870b6e7e"
      },
      "source": [
        "%pip install selenium\n",
        "%pip install parsel"
      ],
      "execution_count": null,
      "outputs": [
        {
          "output_type": "stream",
          "text": [
            "Requirement already satisfied: selenium in /usr/local/lib/python3.7/dist-packages (3.141.0)\n",
            "Requirement already satisfied: urllib3 in /usr/local/lib/python3.7/dist-packages (from selenium) (1.24.3)\n",
            "Collecting parsel\n",
            "  Downloading https://files.pythonhosted.org/packages/23/1e/9b39d64cbab79d4362cdd7be7f5e9623d45c4a53b3f7522cd8210df52d8e/parsel-1.6.0-py2.py3-none-any.whl\n",
            "Requirement already satisfied: six>=1.6.0 in /usr/local/lib/python3.7/dist-packages (from parsel) (1.15.0)\n",
            "Collecting cssselect>=0.9\n",
            "  Downloading https://files.pythonhosted.org/packages/3b/d4/3b5c17f00cce85b9a1e6f91096e1cc8e8ede2e1be8e96b87ce1ed09e92c5/cssselect-1.1.0-py2.py3-none-any.whl\n",
            "Collecting w3lib>=1.19.0\n",
            "  Downloading https://files.pythonhosted.org/packages/a3/59/b6b14521090e7f42669cafdb84b0ab89301a42f1f1a82fcf5856661ea3a7/w3lib-1.22.0-py2.py3-none-any.whl\n",
            "Requirement already satisfied: lxml in /usr/local/lib/python3.7/dist-packages (from parsel) (4.2.6)\n",
            "Installing collected packages: cssselect, w3lib, parsel\n",
            "Successfully installed cssselect-1.1.0 parsel-1.6.0 w3lib-1.22.0\n"
          ],
          "name": "stdout"
        }
      ]
    },
    {
      "cell_type": "code",
      "metadata": {
        "colab": {
          "base_uri": "https://localhost:8080/"
        },
        "id": "VT2eOGnwDI6p",
        "outputId": "becbaf84-503c-462c-bc71-f52ef6d5d57b"
      },
      "source": [
        "!apt update\n",
        "!apt install chromium-chromedriver"
      ],
      "execution_count": null,
      "outputs": [
        {
          "output_type": "stream",
          "text": [
            "\u001b[33m\r0% [Working]\u001b[0m\r            \rHit:1 http://ppa.launchpad.net/c2d4u.team/c2d4u4.0+/ubuntu bionic InRelease\n",
            "\u001b[33m\r0% [Waiting for headers] [Connecting to security.ubuntu.com (91.189.88.152)] [C\u001b[0m\r                                                                               \rHit:2 http://archive.ubuntu.com/ubuntu bionic InRelease\n",
            "\u001b[33m\r0% [Waiting for headers] [Waiting for headers] [Connected to cloud.r-project.or\u001b[0m\u001b[33m\r0% [1 InRelease gpgv 15.9 kB] [Waiting for headers] [Waiting for headers] [Conn\u001b[0m\r                                                                               \rHit:3 http://security.ubuntu.com/ubuntu bionic-security InRelease\n",
            "\u001b[33m\r0% [1 InRelease gpgv 15.9 kB] [Waiting for headers] [Connected to cloud.r-proje\u001b[0m\r                                                                               \rHit:4 http://archive.ubuntu.com/ubuntu bionic-updates InRelease\n",
            "\u001b[33m\r0% [1 InRelease gpgv 15.9 kB] [Waiting for headers] [Connected to cloud.r-proje\u001b[0m\r                                                                               \rHit:5 http://ppa.launchpad.net/cran/libgit2/ubuntu bionic InRelease\n",
            "\u001b[33m\r0% [1 InRelease gpgv 15.9 kB] [Waiting for headers] [Connected to cloud.r-proje\u001b[0m\r                                                                               \rHit:6 http://archive.ubuntu.com/ubuntu bionic-backports InRelease\n",
            "\u001b[33m\r0% [1 InRelease gpgv 15.9 kB] [Connected to cloud.r-project.org (13.227.220.21)\u001b[0m\r                                                                               \rHit:7 http://ppa.launchpad.net/deadsnakes/ppa/ubuntu bionic InRelease\n",
            "\u001b[33m\r0% [1 InRelease gpgv 15.9 kB] [Connected to cloud.r-project.org (13.227.220.21)\u001b[0m\r                                                                               \rHit:8 http://ppa.launchpad.net/graphics-drivers/ppa/ubuntu bionic InRelease\n",
            "\u001b[33m\r0% [1 InRelease gpgv 15.9 kB] [Connected to cloud.r-project.org (13.227.220.21)\u001b[0m\r                                                                               \rIgn:9 https://developer.download.nvidia.com/compute/cuda/repos/ubuntu1804/x86_64  InRelease\n",
            "Hit:10 https://cloud.r-project.org/bin/linux/ubuntu bionic-cran40/ InRelease\n",
            "Ign:11 https://developer.download.nvidia.com/compute/machine-learning/repos/ubuntu1804/x86_64  InRelease\n",
            "Hit:12 https://developer.download.nvidia.com/compute/cuda/repos/ubuntu1804/x86_64  Release\n",
            "Hit:13 https://developer.download.nvidia.com/compute/machine-learning/repos/ubuntu1804/x86_64  Release\n",
            "Reading package lists... Done\n",
            "Building dependency tree       \n",
            "Reading state information... Done\n",
            "50 packages can be upgraded. Run 'apt list --upgradable' to see them.\n",
            "Reading package lists... Done\n",
            "Building dependency tree       \n",
            "Reading state information... Done\n",
            "The following additional packages will be installed:\n",
            "  chromium-browser chromium-browser-l10n chromium-codecs-ffmpeg-extra\n",
            "Suggested packages:\n",
            "  webaccounts-chromium-extension unity-chromium-extension\n",
            "The following NEW packages will be installed:\n",
            "  chromium-browser chromium-browser-l10n chromium-chromedriver\n",
            "  chromium-codecs-ffmpeg-extra\n",
            "0 upgraded, 4 newly installed, 0 to remove and 50 not upgraded.\n",
            "Need to get 83.2 MB of archives.\n",
            "After this operation, 282 MB of additional disk space will be used.\n",
            "Get:1 http://archive.ubuntu.com/ubuntu bionic-updates/universe amd64 chromium-codecs-ffmpeg-extra amd64 89.0.4389.90-0ubuntu0.18.04.2 [1,127 kB]\n",
            "Get:2 http://archive.ubuntu.com/ubuntu bionic-updates/universe amd64 chromium-browser amd64 89.0.4389.90-0ubuntu0.18.04.2 [73.6 MB]\n",
            "Get:3 http://archive.ubuntu.com/ubuntu bionic-updates/universe amd64 chromium-browser-l10n all 89.0.4389.90-0ubuntu0.18.04.2 [3,809 kB]\n",
            "Get:4 http://archive.ubuntu.com/ubuntu bionic-updates/universe amd64 chromium-chromedriver amd64 89.0.4389.90-0ubuntu0.18.04.2 [4,697 kB]\n",
            "Fetched 83.2 MB in 1s (57.4 MB/s)\n",
            "Selecting previously unselected package chromium-codecs-ffmpeg-extra.\n",
            "(Reading database ... 160980 files and directories currently installed.)\n",
            "Preparing to unpack .../chromium-codecs-ffmpeg-extra_89.0.4389.90-0ubuntu0.18.04.2_amd64.deb ...\n",
            "Unpacking chromium-codecs-ffmpeg-extra (89.0.4389.90-0ubuntu0.18.04.2) ...\n",
            "Selecting previously unselected package chromium-browser.\n",
            "Preparing to unpack .../chromium-browser_89.0.4389.90-0ubuntu0.18.04.2_amd64.deb ...\n",
            "Unpacking chromium-browser (89.0.4389.90-0ubuntu0.18.04.2) ...\n",
            "Selecting previously unselected package chromium-browser-l10n.\n",
            "Preparing to unpack .../chromium-browser-l10n_89.0.4389.90-0ubuntu0.18.04.2_all.deb ...\n",
            "Unpacking chromium-browser-l10n (89.0.4389.90-0ubuntu0.18.04.2) ...\n",
            "Selecting previously unselected package chromium-chromedriver.\n",
            "Preparing to unpack .../chromium-chromedriver_89.0.4389.90-0ubuntu0.18.04.2_amd64.deb ...\n",
            "Unpacking chromium-chromedriver (89.0.4389.90-0ubuntu0.18.04.2) ...\n",
            "Setting up chromium-codecs-ffmpeg-extra (89.0.4389.90-0ubuntu0.18.04.2) ...\n",
            "Setting up chromium-browser (89.0.4389.90-0ubuntu0.18.04.2) ...\n",
            "update-alternatives: using /usr/bin/chromium-browser to provide /usr/bin/x-www-browser (x-www-browser) in auto mode\n",
            "update-alternatives: using /usr/bin/chromium-browser to provide /usr/bin/gnome-www-browser (gnome-www-browser) in auto mode\n",
            "Setting up chromium-chromedriver (89.0.4389.90-0ubuntu0.18.04.2) ...\n",
            "Setting up chromium-browser-l10n (89.0.4389.90-0ubuntu0.18.04.2) ...\n",
            "Processing triggers for man-db (2.8.3-2ubuntu0.1) ...\n",
            "Processing triggers for hicolor-icon-theme (0.17-2) ...\n",
            "Processing triggers for mime-support (3.60ubuntu1) ...\n",
            "Processing triggers for libc-bin (2.27-3ubuntu1.2) ...\n",
            "/sbin/ldconfig.real: /usr/local/lib/python3.7/dist-packages/ideep4py/lib/libmkldnn.so.0 is not a symbolic link\n",
            "\n"
          ],
          "name": "stdout"
        }
      ]
    },
    {
      "cell_type": "code",
      "metadata": {
        "id": "vzmc53taDdsL"
      },
      "source": [
        "from selenium import webdriver\n",
        "options = webdriver.ChromeOptions()\n",
        "options.add_argument('--headless')\n",
        "options.add_argument('--no-sandbox')\n",
        "options.add_argument('--disable-dev-shm-usage')\n",
        "driver = webdriver.Chrome('chromedriver',options=options)"
      ],
      "execution_count": null,
      "outputs": []
    },
    {
      "cell_type": "code",
      "metadata": {
        "id": "1qBO2XMG7jdv"
      },
      "source": [
        "# install packages\n",
        "import selenium as se \n",
        "import csv\n",
        "from time import sleep\n",
        "import xlrd\n",
        "import pandas as pd\n",
        "from selenium.webdriver.common.keys import Keys\n",
        "from parsel import Selector\n",
        "import re"
      ],
      "execution_count": null,
      "outputs": []
    },
    {
      "cell_type": "code",
      "metadata": {
        "colab": {
          "base_uri": "https://localhost:8080/"
        },
        "id": "tLsIZoYp7jdy",
        "outputId": "bc98b66f-b5fa-443f-cb5a-ff155e61c361"
      },
      "source": [
        "# defining new variable passing two parameters\n",
        "writer = csv.writer(open('Spring 2019 Grad Placement_6.csv', 'w+', encoding = 'utf-8-sig', newline = ''))\n",
        "\n",
        "# writerow() method to the write to the file object\n",
        "writer.writerow(['Name', 'Company', 'Title', 'Start_time', 'URL'])"
      ],
      "execution_count": null,
      "outputs": [
        {
          "output_type": "execute_result",
          "data": {
            "text/plain": [
              "35"
            ]
          },
          "metadata": {
            "tags": []
          },
          "execution_count": 6
        }
      ]
    },
    {
      "cell_type": "code",
      "metadata": {
        "colab": {
          "base_uri": "https://localhost:8080/"
        },
        "id": "w4LcVt1F7jdz",
        "outputId": "1faee2a9-8c38-43cc-f1ce-ab62ac8e7cce"
      },
      "source": [
        "# writerow() method to the write to the file object\n",
        "writer.writerow(['Name', 'Company', 'Title', 'Start_time', 'URL'])"
      ],
      "execution_count": null,
      "outputs": [
        {
          "output_type": "execute_result",
          "data": {
            "text/plain": [
              "35"
            ]
          },
          "metadata": {
            "tags": []
          },
          "execution_count": 7
        }
      ]
    },
    {
      "cell_type": "code",
      "metadata": {
        "scrolled": false,
        "id": "xHzCPt4e7jd0"
      },
      "source": [
        "# import web driver\n",
        "from selenium import webdriver\n",
        "\n",
        "# driver.get method() will navigate to a page given by the URL address\n",
        "driver.get('https://www.linkedin.com')"
      ],
      "execution_count": null,
      "outputs": []
    },
    {
      "cell_type": "code",
      "metadata": {
        "id": "dG-6p6gB7jd0"
      },
      "source": [
        "# locate email form by_class_name\n",
        "username = driver.find_element_by_name('session_key')\n",
        "\n",
        "# send_keys() to simulate key strokes\n",
        "username.send_keys('brian.nguyen0305@gmail.com')\n",
        "sleep(0.5)\n",
        "\n",
        "# locate password form by_class_name\n",
        "password = driver.find_element_by_name('session_password')\n",
        "\n",
        "# send_keys() to simulate key strokes\n",
        "password.send_keys(\"niixS$$4zDHyGc'\")\n",
        "sleep(0.5)"
      ],
      "execution_count": null,
      "outputs": []
    },
    {
      "cell_type": "code",
      "metadata": {
        "id": "Lk3t4ov97jd1"
      },
      "source": [
        "# locate submit button by_class_name\n",
        "log_in_button = driver.find_element_by_class_name(\"sign-in-form__submit-button\")\n",
        "\n",
        "# .click() to mimic button click\n",
        "log_in_button.click()\n",
        "sleep(0.5)"
      ],
      "execution_count": null,
      "outputs": []
    },
    {
      "cell_type": "code",
      "metadata": {
        "scrolled": true,
        "id": "zcnQL62R7jd1"
      },
      "source": [
        "#import names data:\n",
        "data = pd.read_excel('/content/drive/MyDrive/Web_Scraping_Workshop/Spring 2019 Grads Data.xlsx')\n",
        "names = data[\"FULL_NAME\"]\n",
        "feed_list = []\n",
        "\n",
        "# print('\"site:linkedin.com/in/', 'AND', '\"',i,'\"', 'AND \"Business Analytics\"', 'AND \"University of Texas at Dallas\"\",')\n",
        "#search term \n",
        "for i in names:\n",
        "    a = \"site:linkedin.com/in/\"\n",
        "    b = \"AND\"\n",
        "    c = i\n",
        "    d = \"AND\"\n",
        "    e = '\"Business Analytics\"'\n",
        "    s = \" \"\n",
        "    f = '\"Dallas\"'\n",
        "    result = a + s + c + s + e + s + f \n",
        "    feed_list.append(result)"
      ],
      "execution_count": null,
      "outputs": []
    },
    {
      "cell_type": "code",
      "metadata": {
        "scrolled": true,
        "colab": {
          "base_uri": "https://localhost:8080/"
        },
        "id": "-wKgfPst7jd2",
        "outputId": "af8e9586-9eb9-4f55-ddcc-66f109529711"
      },
      "source": [
        "# check if we made all search term for each names\n",
        "print(len(feed_list))\n",
        "\n",
        "print(feed_list[0])"
      ],
      "execution_count": null,
      "outputs": [
        {
          "output_type": "stream",
          "text": [
            "304\n",
            "site:linkedin.com/in/ Germick, Alexander \"Business Analytics\" \"Dallas\"\n"
          ],
          "name": "stdout"
        }
      ]
    },
    {
      "cell_type": "code",
      "metadata": {
        "scrolled": false,
        "colab": {
          "base_uri": "https://localhost:8080/"
        },
        "id": "F8e9Ejzb7jd2",
        "outputId": "1829ef5f-5e55-4f5b-9396-72fd48e6249c"
      },
      "source": [
        "feed_list"
      ],
      "execution_count": null,
      "outputs": [
        {
          "output_type": "execute_result",
          "data": {
            "text/plain": [
              "['site:linkedin.com/in/ Germick, Alexander \"Business Analytics\" \"Dallas\"',\n",
              " 'site:linkedin.com/in/ Gowaikar, Siddhi S \"Business Analytics\" \"Dallas\"',\n",
              " 'site:linkedin.com/in/ Balani, Ritu \"Business Analytics\" \"Dallas\"',\n",
              " 'site:linkedin.com/in/ Zhang, Shenxiangsu \"Business Analytics\" \"Dallas\"',\n",
              " 'site:linkedin.com/in/ Hao, Siyu \"Business Analytics\" \"Dallas\"',\n",
              " 'site:linkedin.com/in/ Patel, Nirav \"Business Analytics\" \"Dallas\"',\n",
              " 'site:linkedin.com/in/ Ayyagari, Veerabhadra Satya Deepak \"Business Analytics\" \"Dallas\"',\n",
              " 'site:linkedin.com/in/ Khurana, Ramit \"Business Analytics\" \"Dallas\"',\n",
              " 'site:linkedin.com/in/ Singh, Saurabh Kumar \"Business Analytics\" \"Dallas\"',\n",
              " 'site:linkedin.com/in/ Gosrani, Foram P \"Business Analytics\" \"Dallas\"',\n",
              " 'site:linkedin.com/in/ Mohire, Abhijay \"Business Analytics\" \"Dallas\"',\n",
              " 'site:linkedin.com/in/ Sivakumar, Adithya M \"Business Analytics\" \"Dallas\"',\n",
              " 'site:linkedin.com/in/ Kulkarni, Akhil S \"Business Analytics\" \"Dallas\"',\n",
              " 'site:linkedin.com/in/ Lad, Nishidh V \"Business Analytics\" \"Dallas\"',\n",
              " 'site:linkedin.com/in/ Baheti, Pratik S \"Business Analytics\" \"Dallas\"',\n",
              " 'site:linkedin.com/in/ Jones, Elijah \"Business Analytics\" \"Dallas\"',\n",
              " 'site:linkedin.com/in/ Aggarwal, Gaurav Sunil \"Business Analytics\" \"Dallas\"',\n",
              " 'site:linkedin.com/in/ Gupta, Mitul \"Business Analytics\" \"Dallas\"',\n",
              " 'site:linkedin.com/in/ Das, Ashrumala \"Business Analytics\" \"Dallas\"',\n",
              " 'site:linkedin.com/in/ Agrawal, Apurva \"Business Analytics\" \"Dallas\"',\n",
              " 'site:linkedin.com/in/ Shen, Ying \"Business Analytics\" \"Dallas\"',\n",
              " 'site:linkedin.com/in/ Dhar, Rahul \"Business Analytics\" \"Dallas\"',\n",
              " 'site:linkedin.com/in/ Ahmed, Nabeel \"Business Analytics\" \"Dallas\"',\n",
              " 'site:linkedin.com/in/ Sadive, Bhargav Anand Reddy \"Business Analytics\" \"Dallas\"',\n",
              " 'site:linkedin.com/in/ Dmello, Joyli P \"Business Analytics\" \"Dallas\"',\n",
              " 'site:linkedin.com/in/ Sidhwani, Harshit \"Business Analytics\" \"Dallas\"',\n",
              " 'site:linkedin.com/in/ Chen, Po-Hung \"Business Analytics\" \"Dallas\"',\n",
              " 'site:linkedin.com/in/ Wu, Bohan \"Business Analytics\" \"Dallas\"',\n",
              " 'site:linkedin.com/in/ Zhang, Ruijie \"Business Analytics\" \"Dallas\"',\n",
              " 'site:linkedin.com/in/ Wu, Hanson L \"Business Analytics\" \"Dallas\"',\n",
              " 'site:linkedin.com/in/ Arora, Pooja \"Business Analytics\" \"Dallas\"',\n",
              " 'site:linkedin.com/in/ Chen, Zhining \"Business Analytics\" \"Dallas\"',\n",
              " 'site:linkedin.com/in/ Ai, Siyu \"Business Analytics\" \"Dallas\"',\n",
              " 'site:linkedin.com/in/ Ouedraogo, Grace M \"Business Analytics\" \"Dallas\"',\n",
              " 'site:linkedin.com/in/ Jain, Siddharth \"Business Analytics\" \"Dallas\"',\n",
              " 'site:linkedin.com/in/ Harry, Onengiyeofori C \"Business Analytics\" \"Dallas\"',\n",
              " 'site:linkedin.com/in/ Kumar, Saket \"Business Analytics\" \"Dallas\"',\n",
              " 'site:linkedin.com/in/ Wang, Zhe \"Business Analytics\" \"Dallas\"',\n",
              " 'site:linkedin.com/in/ Bajaj, Satinder \"Business Analytics\" \"Dallas\"',\n",
              " 'site:linkedin.com/in/ Polisetty, Naga Venkata Sai Krishna B \"Business Analytics\" \"Dallas\"',\n",
              " 'site:linkedin.com/in/ Dou, Yanan \"Business Analytics\" \"Dallas\"',\n",
              " 'site:linkedin.com/in/ Kaul, Ritesh \"Business Analytics\" \"Dallas\"',\n",
              " 'site:linkedin.com/in/ Gupta, Harsh Badriprasad \"Business Analytics\" \"Dallas\"',\n",
              " 'site:linkedin.com/in/ Rajnarain, Aiswarya \"Business Analytics\" \"Dallas\"',\n",
              " 'site:linkedin.com/in/ Patel, Mehul G \"Business Analytics\" \"Dallas\"',\n",
              " 'site:linkedin.com/in/ Nutakki, Sandeep C \"Business Analytics\" \"Dallas\"',\n",
              " 'site:linkedin.com/in/ Singh, Prapti \"Business Analytics\" \"Dallas\"',\n",
              " 'site:linkedin.com/in/ Singh, Namit \"Business Analytics\" \"Dallas\"',\n",
              " 'site:linkedin.com/in/ Rustagi, Himanshu \"Business Analytics\" \"Dallas\"',\n",
              " 'site:linkedin.com/in/ Kodati, Sumasree \"Business Analytics\" \"Dallas\"',\n",
              " 'site:linkedin.com/in/ Naidu, Abishek T \"Business Analytics\" \"Dallas\"',\n",
              " 'site:linkedin.com/in/ Ashok, Mohith \"Business Analytics\" \"Dallas\"',\n",
              " 'site:linkedin.com/in/ Deore, Mrudula Ashok \"Business Analytics\" \"Dallas\"',\n",
              " 'site:linkedin.com/in/ Menon, Rhea Suresh \"Business Analytics\" \"Dallas\"',\n",
              " 'site:linkedin.com/in/ Barbadikar, Alhad Anant \"Business Analytics\" \"Dallas\"',\n",
              " 'site:linkedin.com/in/ Yang, Hanxiao \"Business Analytics\" \"Dallas\"',\n",
              " 'site:linkedin.com/in/ Shukla, Paritosh \"Business Analytics\" \"Dallas\"',\n",
              " 'site:linkedin.com/in/ Shang, Qian \"Business Analytics\" \"Dallas\"',\n",
              " 'site:linkedin.com/in/ Thomas, Archita \"Business Analytics\" \"Dallas\"',\n",
              " 'site:linkedin.com/in/ Sharma, Sushil \"Business Analytics\" \"Dallas\"',\n",
              " 'site:linkedin.com/in/ El Chaar, Wahid \"Business Analytics\" \"Dallas\"',\n",
              " 'site:linkedin.com/in/ Devadasan, Dinesh K \"Business Analytics\" \"Dallas\"',\n",
              " 'site:linkedin.com/in/ Ji, Xiang \"Business Analytics\" \"Dallas\"',\n",
              " 'site:linkedin.com/in/ Chang, Yu-Chuan \"Business Analytics\" \"Dallas\"',\n",
              " 'site:linkedin.com/in/ Chaturvedi, Anubhav \"Business Analytics\" \"Dallas\"',\n",
              " 'site:linkedin.com/in/ Lyu, Yiping \"Business Analytics\" \"Dallas\"',\n",
              " 'site:linkedin.com/in/ Garg, Shubhangi \"Business Analytics\" \"Dallas\"',\n",
              " 'site:linkedin.com/in/ Shen, Shu-Yu \"Business Analytics\" \"Dallas\"',\n",
              " 'site:linkedin.com/in/ Lee, Yeseul \"Business Analytics\" \"Dallas\"',\n",
              " 'site:linkedin.com/in/ Agarwal, Ayush \"Business Analytics\" \"Dallas\"',\n",
              " 'site:linkedin.com/in/ Cottingame, John \"Business Analytics\" \"Dallas\"',\n",
              " 'site:linkedin.com/in/ Kalyanaraman, Vandhana \"Business Analytics\" \"Dallas\"',\n",
              " 'site:linkedin.com/in/ Alley, Jason \"Business Analytics\" \"Dallas\"',\n",
              " 'site:linkedin.com/in/ Murugandi, Ganesh Kumar \"Business Analytics\" \"Dallas\"',\n",
              " 'site:linkedin.com/in/ Gandhi, Mohit Hitesh \"Business Analytics\" \"Dallas\"',\n",
              " 'site:linkedin.com/in/ Chai, Zhenghe \"Business Analytics\" \"Dallas\"',\n",
              " 'site:linkedin.com/in/ Yao, Minxiang \"Business Analytics\" \"Dallas\"',\n",
              " 'site:linkedin.com/in/ Wei, Lan \"Business Analytics\" \"Dallas\"',\n",
              " 'site:linkedin.com/in/ Chen, Junyu \"Business Analytics\" \"Dallas\"',\n",
              " 'site:linkedin.com/in/ Maeshiro, Minoru R \"Business Analytics\" \"Dallas\"',\n",
              " 'site:linkedin.com/in/ Yu, Fengyuan \"Business Analytics\" \"Dallas\"',\n",
              " 'site:linkedin.com/in/ Ma, Kexin \"Business Analytics\" \"Dallas\"',\n",
              " 'site:linkedin.com/in/ Kansal, Animesh \"Business Analytics\" \"Dallas\"',\n",
              " 'site:linkedin.com/in/ Chaganti, Likhitha \"Business Analytics\" \"Dallas\"',\n",
              " 'site:linkedin.com/in/ Pichikala, Satya Bhagat \"Business Analytics\" \"Dallas\"',\n",
              " 'site:linkedin.com/in/ Diwan, Saurabh \"Business Analytics\" \"Dallas\"',\n",
              " 'site:linkedin.com/in/ Verma, Vipul \"Business Analytics\" \"Dallas\"',\n",
              " 'site:linkedin.com/in/ Shah, Aayushi D \"Business Analytics\" \"Dallas\"',\n",
              " 'site:linkedin.com/in/ Randhawa, Sehjbir Singh \"Business Analytics\" \"Dallas\"',\n",
              " 'site:linkedin.com/in/ Haridas, Indrajit \"Business Analytics\" \"Dallas\"',\n",
              " 'site:linkedin.com/in/ Sathappan, Alagappan \"Business Analytics\" \"Dallas\"',\n",
              " 'site:linkedin.com/in/ Mohandas, Nimesh \"Business Analytics\" \"Dallas\"',\n",
              " 'site:linkedin.com/in/ Seth, Raghav \"Business Analytics\" \"Dallas\"',\n",
              " 'site:linkedin.com/in/ An, Ruichao \"Business Analytics\" \"Dallas\"',\n",
              " 'site:linkedin.com/in/ Goyal, Tarun \"Business Analytics\" \"Dallas\"',\n",
              " 'site:linkedin.com/in/ Xu, Junyan \"Business Analytics\" \"Dallas\"',\n",
              " 'site:linkedin.com/in/ Kothakapa, Chakradhar Reddy \"Business Analytics\" \"Dallas\"',\n",
              " 'site:linkedin.com/in/ Badhrinathan, Saundarya \"Business Analytics\" \"Dallas\"',\n",
              " 'site:linkedin.com/in/ Xiong, Yangranzi \"Business Analytics\" \"Dallas\"',\n",
              " 'site:linkedin.com/in/ Rawat, Prateek R \"Business Analytics\" \"Dallas\"',\n",
              " 'site:linkedin.com/in/ Gawande, Jagrutee \"Business Analytics\" \"Dallas\"',\n",
              " 'site:linkedin.com/in/ Lakhani, Mit Atul \"Business Analytics\" \"Dallas\"',\n",
              " 'site:linkedin.com/in/ Shin, Woosik \"Business Analytics\" \"Dallas\"',\n",
              " 'site:linkedin.com/in/ Alse, Akshay V \"Business Analytics\" \"Dallas\"',\n",
              " 'site:linkedin.com/in/ Hua, Gongzhan \"Business Analytics\" \"Dallas\"',\n",
              " 'site:linkedin.com/in/ Xu, Fan \"Business Analytics\" \"Dallas\"',\n",
              " 'site:linkedin.com/in/ Lou, Ziwei \"Business Analytics\" \"Dallas\"',\n",
              " 'site:linkedin.com/in/ Liu, Yueming \"Business Analytics\" \"Dallas\"',\n",
              " 'site:linkedin.com/in/ Dey, Bikramjit \"Business Analytics\" \"Dallas\"',\n",
              " 'site:linkedin.com/in/ Shaddelan, Milad \"Business Analytics\" \"Dallas\"',\n",
              " 'site:linkedin.com/in/ Fu, Junfeng \"Business Analytics\" \"Dallas\"',\n",
              " 'site:linkedin.com/in/ Chen, Yung-Kuei \"Business Analytics\" \"Dallas\"',\n",
              " 'site:linkedin.com/in/ Wang, Manting \"Business Analytics\" \"Dallas\"',\n",
              " 'site:linkedin.com/in/ Wu, Tai-Ling \"Business Analytics\" \"Dallas\"',\n",
              " 'site:linkedin.com/in/ Saggu, Eeshpaul S \"Business Analytics\" \"Dallas\"',\n",
              " 'site:linkedin.com/in/ Masih, Obaid \"Business Analytics\" \"Dallas\"',\n",
              " 'site:linkedin.com/in/ Zhang, Haojie \"Business Analytics\" \"Dallas\"',\n",
              " 'site:linkedin.com/in/ Dhanwani, Rohit \"Business Analytics\" \"Dallas\"',\n",
              " 'site:linkedin.com/in/ Chu, Ruozhou \"Business Analytics\" \"Dallas\"',\n",
              " 'site:linkedin.com/in/ Murugiah, Navin Karthik \"Business Analytics\" \"Dallas\"',\n",
              " 'site:linkedin.com/in/ Nandapurkar, Aishwarya V \"Business Analytics\" \"Dallas\"',\n",
              " 'site:linkedin.com/in/ Yang, Bingkun \"Business Analytics\" \"Dallas\"',\n",
              " 'site:linkedin.com/in/ Zhao, Jing \"Business Analytics\" \"Dallas\"',\n",
              " 'site:linkedin.com/in/ Zhang, Wanjing \"Business Analytics\" \"Dallas\"',\n",
              " 'site:linkedin.com/in/ Shah, Viraj M \"Business Analytics\" \"Dallas\"',\n",
              " 'site:linkedin.com/in/ Lamba, Jasmita \"Business Analytics\" \"Dallas\"',\n",
              " 'site:linkedin.com/in/ Patil, Rahul R \"Business Analytics\" \"Dallas\"',\n",
              " 'site:linkedin.com/in/ Batchu, Paramahamsa Chandrahaas \"Business Analytics\" \"Dallas\"',\n",
              " 'site:linkedin.com/in/ Arora, Harsh \"Business Analytics\" \"Dallas\"',\n",
              " 'site:linkedin.com/in/ Kaswa, Naveen \"Business Analytics\" \"Dallas\"',\n",
              " 'site:linkedin.com/in/ Yu, Ruizhuo \"Business Analytics\" \"Dallas\"',\n",
              " 'site:linkedin.com/in/ Chavan, Aditya Babanrao \"Business Analytics\" \"Dallas\"',\n",
              " 'site:linkedin.com/in/ Gupta, Aabhas \"Business Analytics\" \"Dallas\"',\n",
              " 'site:linkedin.com/in/ Sawant, Devendra P \"Business Analytics\" \"Dallas\"',\n",
              " 'site:linkedin.com/in/ Joy, David \"Business Analytics\" \"Dallas\"',\n",
              " 'site:linkedin.com/in/ Rawat, Saurabh \"Business Analytics\" \"Dallas\"',\n",
              " 'site:linkedin.com/in/ Cheng, Yao-Shin \"Business Analytics\" \"Dallas\"',\n",
              " 'site:linkedin.com/in/ Kumari, Riti \"Business Analytics\" \"Dallas\"',\n",
              " 'site:linkedin.com/in/ Shil, Pranav K \"Business Analytics\" \"Dallas\"',\n",
              " 'site:linkedin.com/in/ Li, Zihao \"Business Analytics\" \"Dallas\"',\n",
              " 'site:linkedin.com/in/ Mehta, Jimit A \"Business Analytics\" \"Dallas\"',\n",
              " 'site:linkedin.com/in/ Basavaraj, Kushal \"Business Analytics\" \"Dallas\"',\n",
              " 'site:linkedin.com/in/ Chen, Huizhen \"Business Analytics\" \"Dallas\"',\n",
              " 'site:linkedin.com/in/ Weng, Zecan \"Business Analytics\" \"Dallas\"',\n",
              " 'site:linkedin.com/in/ Oza, Siddharth R \"Business Analytics\" \"Dallas\"',\n",
              " 'site:linkedin.com/in/ Chaukiyal, Arpit \"Business Analytics\" \"Dallas\"',\n",
              " 'site:linkedin.com/in/ Rane, Ajinkya R \"Business Analytics\" \"Dallas\"',\n",
              " 'site:linkedin.com/in/ Chen, Chung-Min \"Business Analytics\" \"Dallas\"',\n",
              " 'site:linkedin.com/in/ Gollapally, Sai Krishna \"Business Analytics\" \"Dallas\"',\n",
              " 'site:linkedin.com/in/ Akunuri, Satwik \"Business Analytics\" \"Dallas\"',\n",
              " 'site:linkedin.com/in/ Shetty, Roshan Balakrishna \"Business Analytics\" \"Dallas\"',\n",
              " 'site:linkedin.com/in/ Guha, Priyanka \"Business Analytics\" \"Dallas\"',\n",
              " 'site:linkedin.com/in/ Ahmad, Fateh \"Business Analytics\" \"Dallas\"',\n",
              " 'site:linkedin.com/in/ Lin, Yingwei \"Business Analytics\" \"Dallas\"',\n",
              " 'site:linkedin.com/in/ Wang, Yuhan \"Business Analytics\" \"Dallas\"',\n",
              " 'site:linkedin.com/in/ Kota, Sai Kishore \"Business Analytics\" \"Dallas\"',\n",
              " 'site:linkedin.com/in/ Fang, Sizhe \"Business Analytics\" \"Dallas\"',\n",
              " 'site:linkedin.com/in/ Parvathareddygari, Bala Sai Sricharan R. \"Business Analytics\" \"Dallas\"',\n",
              " 'site:linkedin.com/in/ Rao, Bharat \"Business Analytics\" \"Dallas\"',\n",
              " 'site:linkedin.com/in/ Gadhella Thulasiram, Deepika \"Business Analytics\" \"Dallas\"',\n",
              " 'site:linkedin.com/in/ Wu, Mulin \"Business Analytics\" \"Dallas\"',\n",
              " 'site:linkedin.com/in/ Li, Wenbo \"Business Analytics\" \"Dallas\"',\n",
              " 'site:linkedin.com/in/ Bulusu, Guru Shanmukha Sahitya \"Business Analytics\" \"Dallas\"',\n",
              " 'site:linkedin.com/in/ Li, Hongyin \"Business Analytics\" \"Dallas\"',\n",
              " 'site:linkedin.com/in/ Kurien, Joseph V \"Business Analytics\" \"Dallas\"',\n",
              " 'site:linkedin.com/in/ Seshadri, Aravindh \"Business Analytics\" \"Dallas\"',\n",
              " 'site:linkedin.com/in/ Umesha, Sumukh \"Business Analytics\" \"Dallas\"',\n",
              " 'site:linkedin.com/in/ Agrawal, Arpit \"Business Analytics\" \"Dallas\"',\n",
              " 'site:linkedin.com/in/ Antony, Deepak \"Business Analytics\" \"Dallas\"',\n",
              " 'site:linkedin.com/in/ Meyyazhagan, Kohul Raj \"Business Analytics\" \"Dallas\"',\n",
              " 'site:linkedin.com/in/ Shah, Anandraj B \"Business Analytics\" \"Dallas\"',\n",
              " 'site:linkedin.com/in/ Chandramohan, Divya \"Business Analytics\" \"Dallas\"',\n",
              " 'site:linkedin.com/in/ Rakshit, Aparna \"Business Analytics\" \"Dallas\"',\n",
              " 'site:linkedin.com/in/ Panicker, Alisha M \"Business Analytics\" \"Dallas\"',\n",
              " 'site:linkedin.com/in/ Mehta, Paryag \"Business Analytics\" \"Dallas\"',\n",
              " 'site:linkedin.com/in/ Ubriani, Jaypriya \"Business Analytics\" \"Dallas\"',\n",
              " 'site:linkedin.com/in/ Tang, Huimin \"Business Analytics\" \"Dallas\"',\n",
              " 'site:linkedin.com/in/ Xu, Kai \"Business Analytics\" \"Dallas\"',\n",
              " 'site:linkedin.com/in/ Junutula, Sathvik Reddy \"Business Analytics\" \"Dallas\"',\n",
              " 'site:linkedin.com/in/ Bodh, Malvika \"Business Analytics\" \"Dallas\"',\n",
              " 'site:linkedin.com/in/ Yang, Chih-Hsuan \"Business Analytics\" \"Dallas\"',\n",
              " 'site:linkedin.com/in/ Xia, Mengyun \"Business Analytics\" \"Dallas\"',\n",
              " 'site:linkedin.com/in/ Yang, Ke \"Business Analytics\" \"Dallas\"',\n",
              " 'site:linkedin.com/in/ Thummanapelly, Surya P \"Business Analytics\" \"Dallas\"',\n",
              " 'site:linkedin.com/in/ Arora, Rajdeep \"Business Analytics\" \"Dallas\"',\n",
              " 'site:linkedin.com/in/ Xu, Huixin \"Business Analytics\" \"Dallas\"',\n",
              " 'site:linkedin.com/in/ Patil, Shamika V \"Business Analytics\" \"Dallas\"',\n",
              " 'site:linkedin.com/in/ Hsu, Ching \"Business Analytics\" \"Dallas\"',\n",
              " 'site:linkedin.com/in/ Vattigunta, Srinivas Prasanth \"Business Analytics\" \"Dallas\"',\n",
              " 'site:linkedin.com/in/ Joshi, Sharayu S \"Business Analytics\" \"Dallas\"',\n",
              " 'site:linkedin.com/in/ Vijayvergiya, Gopesh \"Business Analytics\" \"Dallas\"',\n",
              " 'site:linkedin.com/in/ Rocha, Miguel R \"Business Analytics\" \"Dallas\"',\n",
              " 'site:linkedin.com/in/ Subramanian, Maheedar \"Business Analytics\" \"Dallas\"',\n",
              " 'site:linkedin.com/in/ Nair, Vinod B \"Business Analytics\" \"Dallas\"',\n",
              " 'site:linkedin.com/in/ Forqandoost Haqiqi, Sina \"Business Analytics\" \"Dallas\"',\n",
              " 'site:linkedin.com/in/ Wang, Jiewei \"Business Analytics\" \"Dallas\"',\n",
              " 'site:linkedin.com/in/ Le, Anh H \"Business Analytics\" \"Dallas\"',\n",
              " 'site:linkedin.com/in/ Rathod, Priyanka N \"Business Analytics\" \"Dallas\"',\n",
              " 'site:linkedin.com/in/ Pallepati, Harishrao \"Business Analytics\" \"Dallas\"',\n",
              " 'site:linkedin.com/in/ Laddha, Anurag R \"Business Analytics\" \"Dallas\"',\n",
              " 'site:linkedin.com/in/ Gautam, Aditi \"Business Analytics\" \"Dallas\"',\n",
              " 'site:linkedin.com/in/ Gottumukkala, Lakshmi Nikhila \"Business Analytics\" \"Dallas\"',\n",
              " 'site:linkedin.com/in/ Zhu, Xuewei \"Business Analytics\" \"Dallas\"',\n",
              " 'site:linkedin.com/in/ Mittal, Aseem \"Business Analytics\" \"Dallas\"',\n",
              " 'site:linkedin.com/in/ Shang, Danqin \"Business Analytics\" \"Dallas\"',\n",
              " 'site:linkedin.com/in/ Thankaswamy, Kavitha \"Business Analytics\" \"Dallas\"',\n",
              " 'site:linkedin.com/in/ Chauhan, Pratik S \"Business Analytics\" \"Dallas\"',\n",
              " 'site:linkedin.com/in/ Sanghvi, Darshil R \"Business Analytics\" \"Dallas\"',\n",
              " 'site:linkedin.com/in/ Nalla, Vamshi Krishna \"Business Analytics\" \"Dallas\"',\n",
              " 'site:linkedin.com/in/ Sun, Weiyang \"Business Analytics\" \"Dallas\"',\n",
              " 'site:linkedin.com/in/ Kim, Joon Young \"Business Analytics\" \"Dallas\"',\n",
              " 'site:linkedin.com/in/ Mothukuri, Anusha \"Business Analytics\" \"Dallas\"',\n",
              " 'site:linkedin.com/in/ Patil, Aniket D \"Business Analytics\" \"Dallas\"',\n",
              " 'site:linkedin.com/in/ Shi, Xuesong \"Business Analytics\" \"Dallas\"',\n",
              " 'site:linkedin.com/in/ Kamath, Nrityang U \"Business Analytics\" \"Dallas\"',\n",
              " 'site:linkedin.com/in/ Zhu, Qinyuan \"Business Analytics\" \"Dallas\"',\n",
              " 'site:linkedin.com/in/ Patil, Vikrant V \"Business Analytics\" \"Dallas\"',\n",
              " 'site:linkedin.com/in/ Lall, Harshita \"Business Analytics\" \"Dallas\"',\n",
              " 'site:linkedin.com/in/ Tiku, Samvit \"Business Analytics\" \"Dallas\"',\n",
              " 'site:linkedin.com/in/ Feng, Huiwen \"Business Analytics\" \"Dallas\"',\n",
              " 'site:linkedin.com/in/ Chu, Chih-Hsuan \"Business Analytics\" \"Dallas\"',\n",
              " 'site:linkedin.com/in/ Wen, Yubo \"Business Analytics\" \"Dallas\"',\n",
              " 'site:linkedin.com/in/ Ghani, Ashik S \"Business Analytics\" \"Dallas\"',\n",
              " 'site:linkedin.com/in/ Sebastian, Matthew S \"Business Analytics\" \"Dallas\"',\n",
              " 'site:linkedin.com/in/ Wagle, Shyam K \"Business Analytics\" \"Dallas\"',\n",
              " 'site:linkedin.com/in/ Dong, Yi \"Business Analytics\" \"Dallas\"',\n",
              " 'site:linkedin.com/in/ Nguyen, Ba Khiem \"Business Analytics\" \"Dallas\"',\n",
              " 'site:linkedin.com/in/ Vasquez Segurado, Ricardo A \"Business Analytics\" \"Dallas\"',\n",
              " 'site:linkedin.com/in/ Gardner, Elizabeth A \"Business Analytics\" \"Dallas\"',\n",
              " 'site:linkedin.com/in/ Aziz, Fasahat \"Business Analytics\" \"Dallas\"',\n",
              " 'site:linkedin.com/in/ Gao, Han \"Business Analytics\" \"Dallas\"',\n",
              " 'site:linkedin.com/in/ Le, Yuan \"Business Analytics\" \"Dallas\"',\n",
              " 'site:linkedin.com/in/ Sharma, Supriya \"Business Analytics\" \"Dallas\"',\n",
              " 'site:linkedin.com/in/ Yadav, Ekta \"Business Analytics\" \"Dallas\"',\n",
              " 'site:linkedin.com/in/ Chaubey, Rohit N \"Business Analytics\" \"Dallas\"',\n",
              " 'site:linkedin.com/in/ Sharma, Aditi \"Business Analytics\" \"Dallas\"',\n",
              " 'site:linkedin.com/in/ Dittakavi, Prudhvinath \"Business Analytics\" \"Dallas\"',\n",
              " 'site:linkedin.com/in/ Murugan Gunasekaran, Mahaarajan \"Business Analytics\" \"Dallas\"',\n",
              " 'site:linkedin.com/in/ Chhabra, Raghav \"Business Analytics\" \"Dallas\"',\n",
              " 'site:linkedin.com/in/ Chaubey, Nitesh \"Business Analytics\" \"Dallas\"',\n",
              " 'site:linkedin.com/in/ Bodipudi, Shyam S \"Business Analytics\" \"Dallas\"',\n",
              " 'site:linkedin.com/in/ Wang, Xinyi \"Business Analytics\" \"Dallas\"',\n",
              " 'site:linkedin.com/in/ Narayanan, Aparna \"Business Analytics\" \"Dallas\"',\n",
              " 'site:linkedin.com/in/ Minocha, Jagrit \"Business Analytics\" \"Dallas\"',\n",
              " 'site:linkedin.com/in/ Lin, Lianpu \"Business Analytics\" \"Dallas\"',\n",
              " 'site:linkedin.com/in/ Grover, Sahaj Preet Singh \"Business Analytics\" \"Dallas\"',\n",
              " 'site:linkedin.com/in/ Syed, Omer Wajihuddin \"Business Analytics\" \"Dallas\"',\n",
              " 'site:linkedin.com/in/ Agarwala, Neeraj \"Business Analytics\" \"Dallas\"',\n",
              " 'site:linkedin.com/in/ Joshi, Deval B \"Business Analytics\" \"Dallas\"',\n",
              " 'site:linkedin.com/in/ Kedia, Parag P \"Business Analytics\" \"Dallas\"',\n",
              " 'site:linkedin.com/in/ Shankar, Santhosh \"Business Analytics\" \"Dallas\"',\n",
              " 'site:linkedin.com/in/ Sunny, Moulvin \"Business Analytics\" \"Dallas\"',\n",
              " 'site:linkedin.com/in/ Sadanandam Mullaivananatha, Swaminathan \"Business Analytics\" \"Dallas\"',\n",
              " 'site:linkedin.com/in/ Thakar, Shubhankar A \"Business Analytics\" \"Dallas\"',\n",
              " 'site:linkedin.com/in/ Zhang, Fan \"Business Analytics\" \"Dallas\"',\n",
              " 'site:linkedin.com/in/ Pu, Huan \"Business Analytics\" \"Dallas\"',\n",
              " 'site:linkedin.com/in/ Singh, Arshdeep \"Business Analytics\" \"Dallas\"',\n",
              " 'site:linkedin.com/in/ Lee, Karen Y \"Business Analytics\" \"Dallas\"',\n",
              " 'site:linkedin.com/in/ Guo, Yiyuan \"Business Analytics\" \"Dallas\"',\n",
              " 'site:linkedin.com/in/ Cao, Liyuan \"Business Analytics\" \"Dallas\"',\n",
              " 'site:linkedin.com/in/ Dai, Yumeng \"Business Analytics\" \"Dallas\"',\n",
              " 'site:linkedin.com/in/ Jammu, Sairohit \"Business Analytics\" \"Dallas\"',\n",
              " 'site:linkedin.com/in/ Shrotri, Shubham D \"Business Analytics\" \"Dallas\"',\n",
              " 'site:linkedin.com/in/ Xu, Yuanyuan \"Business Analytics\" \"Dallas\"',\n",
              " 'site:linkedin.com/in/ Paul, Anand D \"Business Analytics\" \"Dallas\"',\n",
              " 'site:linkedin.com/in/ Mandowara, Aditi J \"Business Analytics\" \"Dallas\"',\n",
              " 'site:linkedin.com/in/ Sandilya, Nimish K \"Business Analytics\" \"Dallas\"',\n",
              " 'site:linkedin.com/in/ Nguyen, Quynh Stephanie N \"Business Analytics\" \"Dallas\"',\n",
              " 'site:linkedin.com/in/ Ye, Qing \"Business Analytics\" \"Dallas\"',\n",
              " 'site:linkedin.com/in/ Webber, Darren D \"Business Analytics\" \"Dallas\"',\n",
              " 'site:linkedin.com/in/ Jia, Xiaoran \"Business Analytics\" \"Dallas\"',\n",
              " 'site:linkedin.com/in/ Lyu, Chen \"Business Analytics\" \"Dallas\"',\n",
              " 'site:linkedin.com/in/ Sikdar, Sathi \"Business Analytics\" \"Dallas\"',\n",
              " 'site:linkedin.com/in/ Chou, Shi-Yin \"Business Analytics\" \"Dallas\"',\n",
              " 'site:linkedin.com/in/ Han, Han \"Business Analytics\" \"Dallas\"',\n",
              " 'site:linkedin.com/in/ Ghaisas, Pritish P \"Business Analytics\" \"Dallas\"',\n",
              " 'site:linkedin.com/in/ Ma, Xiao \"Business Analytics\" \"Dallas\"',\n",
              " 'site:linkedin.com/in/ Velamuru, Nikhilesh Reddy \"Business Analytics\" \"Dallas\"',\n",
              " 'site:linkedin.com/in/ Abraham, Andrew \"Business Analytics\" \"Dallas\"',\n",
              " 'site:linkedin.com/in/ Sriram, Akshaya \"Business Analytics\" \"Dallas\"',\n",
              " 'site:linkedin.com/in/ Jagariya, Prakhar \"Business Analytics\" \"Dallas\"',\n",
              " 'site:linkedin.com/in/ Abdullah, Ali \"Business Analytics\" \"Dallas\"',\n",
              " 'site:linkedin.com/in/ Hasei, Toma \"Business Analytics\" \"Dallas\"',\n",
              " 'site:linkedin.com/in/ Nagarajan, Narayanan \"Business Analytics\" \"Dallas\"',\n",
              " 'site:linkedin.com/in/ Verma, Anshu \"Business Analytics\" \"Dallas\"',\n",
              " 'site:linkedin.com/in/ Baskar, Aniruddha \"Business Analytics\" \"Dallas\"',\n",
              " 'site:linkedin.com/in/ Mehra, Manisha \"Business Analytics\" \"Dallas\"',\n",
              " 'site:linkedin.com/in/ Banda, Sanjana \"Business Analytics\" \"Dallas\"',\n",
              " 'site:linkedin.com/in/ Nanglia, Akshaye \"Business Analytics\" \"Dallas\"',\n",
              " 'site:linkedin.com/in/ Achanta, Spandana \"Business Analytics\" \"Dallas\"',\n",
              " 'site:linkedin.com/in/ Bandivdekar, Aishvarya \"Business Analytics\" \"Dallas\"',\n",
              " 'site:linkedin.com/in/ Sawant, Amit \"Business Analytics\" \"Dallas\"',\n",
              " 'site:linkedin.com/in/ Chauhan, Rahul \"Business Analytics\" \"Dallas\"',\n",
              " 'site:linkedin.com/in/ Varadharajan, Gayathri \"Business Analytics\" \"Dallas\"',\n",
              " 'site:linkedin.com/in/ Perera, Palihawadana Arachchige N \"Business Analytics\" \"Dallas\"',\n",
              " 'site:linkedin.com/in/ Mishra, Vinay K \"Business Analytics\" \"Dallas\"',\n",
              " 'site:linkedin.com/in/ Park, Chulhan \"Business Analytics\" \"Dallas\"',\n",
              " 'site:linkedin.com/in/ Liang, Yiyuan \"Business Analytics\" \"Dallas\"',\n",
              " 'site:linkedin.com/in/ Mahapatra, Sohini \"Business Analytics\" \"Dallas\"',\n",
              " 'site:linkedin.com/in/ Natarajan, Dwarkesh \"Business Analytics\" \"Dallas\"',\n",
              " 'site:linkedin.com/in/ Gilani, Syed Muhammad Hassaan \"Business Analytics\" \"Dallas\"',\n",
              " 'site:linkedin.com/in/ Sah, Himansu C \"Business Analytics\" \"Dallas\"',\n",
              " 'site:linkedin.com/in/ Anthony, Rhea M \"Business Analytics\" \"Dallas\"',\n",
              " 'site:linkedin.com/in/ Panavur, Batuhan F \"Business Analytics\" \"Dallas\"']"
            ]
          },
          "metadata": {
            "tags": []
          },
          "execution_count": 42
        }
      ]
    },
    {
      "cell_type": "code",
      "metadata": {
        "colab": {
          "base_uri": "https://localhost:8080/"
        },
        "id": "gD6UR_IU7jd2",
        "outputId": "243c6391-ca58-47b8-e72d-086d0ebeae78"
      },
      "source": [
        "len(feed_list)"
      ],
      "execution_count": null,
      "outputs": [
        {
          "output_type": "execute_result",
          "data": {
            "text/plain": [
              "304"
            ]
          },
          "metadata": {
            "tags": []
          },
          "execution_count": 43
        }
      ]
    },
    {
      "cell_type": "code",
      "metadata": {
        "id": "OtjZmGWh7jd3"
      },
      "source": [
        "driver.get('https:www.google.com')\n",
        "sleep(3)\n",
        "\n",
        "search_query = driver.find_element_by_name('q')\n",
        "search_query.send_keys(feed_list[2])\n",
        "sleep(0.5)\n",
        "\n",
        "search_query.send_keys(Keys.RETURN)\n",
        "sleep(3)\n",
        "\n",
        "linkedin_urls = driver.find_elements_by_tag_name('a')\n",
        "linkedin_urls = [url.get_attribute('href') for url in linkedin_urls]\n",
        "linkedin_urls[31]\n",
        "sleep(0.5)\n",
        "    \n",
        "# use the first - best fit - search \n",
        "driver.get(linkedin_urls[31])\n",
        "\n",
        "# add a 5 second pause loading each URL\n",
        "sleep(5)\n",
        "\n",
        "# assigning the source code for the webpage to variable sel\n",
        "sel = Selector(text=driver.page_source)\n"
      ],
      "execution_count": null,
      "outputs": []
    },
    {
      "cell_type": "code",
      "metadata": {
        "id": "NRifMxFT7jd3"
      },
      "source": [
        "# xpath to extract the text from the class containing the name\n",
        "name = sel.xpath('//*[starts-with(@class, \"inline t-24 t-black t-normal break-words\")]/text()').extract_first()\n",
        "if name:\n",
        "    name = name.strip()\n",
        "\n",
        "# xpath to extract the text from the class containing the company name\n",
        "company = sel.xpath('//*[starts-with(@class, \"pv-entity__secondary-title t-14 t-black t-normal\")]/text()').extract_first()\n",
        "if company:\n",
        "    company = company.strip()\n",
        "\n",
        "# xpath to extract the text from the class containing the title\n",
        "title = sel.xpath('//*[starts-with(@class, \"t-16 t-black t-bold\")]/text()').extract_first()\n",
        "if title:\n",
        "    title = title.strip()\n",
        "\n",
        "    \n",
        "# xpath to extract the text from the class containing the time\n",
        "time = sel.xpath('//*[starts-with(@class, \"pv-entity__date-range t-14 t-black--light t-normal\")]/span[2]').extract_first()\n",
        "if time:\n",
        "    time = time.strip(\"<span>\")\n",
        "    time = time.strip(\"</\")\n",
        "    \n",
        "#url\n",
        "linkedin_url = driver.current_url"
      ],
      "execution_count": null,
      "outputs": []
    },
    {
      "cell_type": "code",
      "metadata": {
        "colab": {
          "base_uri": "https://localhost:8080/"
        },
        "id": "GKI6rgx67jd4",
        "outputId": "561281d5-5e59-4cd2-88f3-818e01144883"
      },
      "source": [
        "writer.writerow([name,\n",
        "                 company,\n",
        "                 title,\n",
        "                 time,\n",
        "                 linkedin_url])"
      ],
      "execution_count": null,
      "outputs": [
        {
          "output_type": "execute_result",
          "data": {
            "text/plain": [
              "302"
            ]
          },
          "metadata": {
            "tags": []
          },
          "execution_count": 46
        }
      ]
    },
    {
      "cell_type": "code",
      "metadata": {
        "id": "4B8zeCWIJ4r4"
      },
      "source": [
        "# URL to use in Selenium\n",
        "driver.get('https://www.boxofficemojo.com/year/?ref_=bo_nb_di_secondarytab')"
      ],
      "execution_count": null,
      "outputs": []
    },
    {
      "cell_type": "code",
      "metadata": {
        "id": "RAxfYizSNB58"
      },
      "source": [
        "sel = Selector(text=driver.page_source)\n",
        "\n",
        "\n",
        "# xpath to extract the text from the class containing the name\n",
        "name = sel.xpath('//*[starts-with(@class, \"a-link-normal\")]/text()').getall()\n",
        "if name:\n",
        "    name = name"
      ],
      "execution_count": null,
      "outputs": []
    },
    {
      "cell_type": "code",
      "metadata": {
        "colab": {
          "base_uri": "https://localhost:8080/"
        },
        "id": "qSUGdVqQThj7",
        "outputId": "58449a12-7e69-4033-8c9e-8c1182ceb1b6"
      },
      "source": [
        "name"
      ],
      "execution_count": null,
      "outputs": [
        {
          "output_type": "execute_result",
          "data": {
            "text/plain": [
              "['Total Gross',\n",
              " '%± LY',\n",
              " 'Releases',\n",
              " 'Average',\n",
              " 'Total Gross',\n",
              " '%± LY',\n",
              " 'Releases',\n",
              " 'Average',\n",
              " '2021',\n",
              " 'Tom and Jerry',\n",
              " '2020',\n",
              " 'Bad Boys for Life',\n",
              " '2019',\n",
              " 'Avengers: Endgame',\n",
              " '2018',\n",
              " 'Black Panther',\n",
              " '2017',\n",
              " 'Star Wars: Episode VIII - The Last Jedi',\n",
              " '2016',\n",
              " 'Finding Dory',\n",
              " '2015',\n",
              " 'Jurassic World',\n",
              " '2014',\n",
              " 'Guardians of the Galaxy',\n",
              " '2013',\n",
              " 'Iron Man 3',\n",
              " '2012',\n",
              " 'The Avengers',\n",
              " '2011',\n",
              " 'Harry Potter and the Deathly Hallows: Part 2',\n",
              " '2010',\n",
              " 'Avatar',\n",
              " '2009',\n",
              " 'Transformers: Revenge of the Fallen',\n",
              " '2008',\n",
              " 'The Dark Knight',\n",
              " '2007',\n",
              " 'Spider-Man 3',\n",
              " '2006',\n",
              " \"Pirates of the Caribbean: Dead Man's Chest\",\n",
              " '2005',\n",
              " 'Star Wars: Episode III - Revenge of the Sith',\n",
              " '2004',\n",
              " 'Shrek 2',\n",
              " '2003',\n",
              " 'Finding Nemo',\n",
              " '2002',\n",
              " 'Spider-Man',\n",
              " '2001',\n",
              " \"Harry Potter and the Sorcerer's Stone\",\n",
              " '2000',\n",
              " 'How the Grinch Stole Christmas',\n",
              " '1999',\n",
              " 'Star Wars: Episode I - The Phantom Menace',\n",
              " '1998',\n",
              " 'Titanic',\n",
              " '1997',\n",
              " 'Men in Black',\n",
              " '1996',\n",
              " 'Independence Day',\n",
              " '1995',\n",
              " 'Batman Forever',\n",
              " '1994',\n",
              " 'The Lion King',\n",
              " '1993',\n",
              " 'Jurassic Park',\n",
              " '1992',\n",
              " 'Batman Returns',\n",
              " '1991',\n",
              " 'Terminator 2: Judgment Day',\n",
              " '1990',\n",
              " 'Ghost',\n",
              " '1989',\n",
              " 'Batman',\n",
              " '1988',\n",
              " 'Who Framed Roger Rabbit',\n",
              " '1987',\n",
              " 'Beverly Hills Cop II',\n",
              " '1986',\n",
              " 'Top Gun',\n",
              " '1985',\n",
              " 'Back to the Future',\n",
              " '1984',\n",
              " 'Ghostbusters',\n",
              " '1983',\n",
              " 'Star Wars: Episode VI - Return of the Jedi',\n",
              " '1982',\n",
              " 'E.T. the Extra-Terrestrial',\n",
              " '1981',\n",
              " 'Superman II',\n",
              " '1980',\n",
              " 'Star Wars: Episode V - The Empire Strikes Back',\n",
              " '1979',\n",
              " 'Superman',\n",
              " '1978',\n",
              " 'Grease',\n",
              " '1977',\n",
              " 'Star Wars: Episode IV - A New Hope',\n",
              " 'News',\n",
              " 'Daily',\n",
              " 'Weekend',\n",
              " 'All Time',\n",
              " 'International',\n",
              " 'Showdowns',\n",
              " 'Glossary',\n",
              " 'User Guide',\n",
              " 'Help',\n",
              " 'IMDb',\n",
              " 'Conditions of Use',\n",
              " 'Privacy Policy']"
            ]
          },
          "metadata": {
            "tags": []
          },
          "execution_count": 101
        }
      ]
    },
    {
      "cell_type": "code",
      "metadata": {
        "colab": {
          "base_uri": "https://localhost:8080/"
        },
        "id": "aeJfNVLTNeVo",
        "outputId": "4f5f2753-ef4d-474a-f7e9-efe72348e18c"
      },
      "source": [
        "print (name[9])"
      ],
      "execution_count": null,
      "outputs": [
        {
          "output_type": "stream",
          "text": [
            "Tom and Jerry\n"
          ],
          "name": "stdout"
        }
      ]
    },
    {
      "cell_type": "code",
      "metadata": {
        "scrolled": false,
        "colab": {
          "base_uri": "https://localhost:8080/",
          "height": 327
        },
        "id": "mTqsgG5X7jd4",
        "outputId": "c24a2493-c9e5-4481-c656-d32d310e839e"
      },
      "source": [
        "for x in feed_list[110:304]:\n",
        "    driver.get('https:www.google.com')\n",
        "    sleep(3)\n",
        "\n",
        "    search_query = driver.find_element_by_name('q')\n",
        "    search_query.send_keys(x)\n",
        "    sleep(0.5)\n",
        "\n",
        "    search_query.send_keys(Keys.RETURN)\n",
        "    sleep(3)\n",
        "\n",
        "    linkedin_urls = driver.find_elements_by_tag_name('a')\n",
        "    linkedin_urls = [url.get_attribute('href') for url in linkedin_urls]\n",
        "    linkedin_urls[31]\n",
        "    sleep(0.5)\n",
        "    \n",
        "    # use the first - best fit - search \n",
        "    driver.get(linkedin_urls[31])\n",
        "\n",
        "    # add a 5 second pause loading each URL\n",
        "    sleep(5)\n",
        "\n",
        "    # assigning the source code for the webpage to variable sel\n",
        "    sel = Selector(text=driver.page_source)\n",
        "\n",
        "    # xpath to extract the text from the class containing the name\n",
        "    name = sel.xpath('//*[starts-with(@class, \"inline t-24 t-black t-normal break-words\")]/text()').extract_first()\n",
        "    if name:\n",
        "        name = name.strip()\n",
        "\n",
        "    # xpath to extract the text from the class containing the company name\n",
        "    company = sel.xpath('//*[starts-with(@class, \"pv-entity__secondary-title t-14 t-black t-normal\")]/text()').extract_first()\n",
        "    if company:\n",
        "        company = company.strip()\n",
        "\n",
        "    # xpath to extract the text from the class containing the title\n",
        "    title = sel.xpath('//*[starts-with(@class, \"t-16 t-black t-bold\")]/text()').extract_first()\n",
        "    if title:\n",
        "        title = title.strip()\n",
        "\n",
        "\n",
        "    # xpath to extract the text from the class containing the time\n",
        "    time = sel.xpath('//*[starts-with(@class, \"pv-entity__date-range t-14 t-black--light t-normal\")]/span[2]').extract_first()\n",
        "    if time:\n",
        "        time = time.strip(\"<span>\")\n",
        "        time = time.strip(\"</\")\n",
        "\n",
        "    #url\n",
        "    linkedin_url = driver.current_url\n",
        "\n",
        "    # use the first - best fit - search \n",
        "    driver.get(linkedin_urls[31])\n",
        "\n",
        "    # add a 5 second pause loading each URL\n",
        "    sleep(5)\n",
        "\n",
        "    # assigning the source code for the webpage to variable sel\n",
        "    sel = Selector(text=driver.page_source)\n",
        "\n",
        "    #output to csv\n",
        "    writer.writerow([name,\n",
        "                     company,\n",
        "                     title,\n",
        "                     time,\n",
        "                     linkedin_url])\n",
        "    \n",
        "    print (\"----------------------------------\")\n",
        "    print (name)\n",
        "    print (company)\n",
        "    print (title)\n",
        "    print (time)\n",
        "    print (linkedin_url)"
      ],
      "execution_count": null,
      "outputs": [
        {
          "output_type": "stream",
          "text": [
            "----------------------------------\n",
            "None\n",
            "None\n",
            "None\n",
            "None\n",
            "https://www.google.com/search?q=site:linkedin.com/in/+Fu,+Junfeng+%22Business+Analytics%22+%22Dallas%22&tbm=isch&source=iu&ictx=1&fir=6arNEmMICLhOCM%252C0Y7LmlZCNil7fM%252C_&vet=1&usg=AI4_-kSY5EQLv0HV5qajKq0aL647XvEEYw&sa=X&ved=2ahUKEwjE7_zd8OLvAhUx8bsIHZjfC2cQ9QF6BAgJEAE#imgrc=6arNEmMICLhOCM\n"
          ],
          "name": "stdout"
        },
        {
          "output_type": "error",
          "ename": "KeyboardInterrupt",
          "evalue": "ignored",
          "traceback": [
            "\u001b[0;31m---------------------------------------------------------------------------\u001b[0m",
            "\u001b[0;31mKeyboardInterrupt\u001b[0m                         Traceback (most recent call last)",
            "\u001b[0;32m<ipython-input-104-020e683aa006>\u001b[0m in \u001b[0;36m<module>\u001b[0;34m()\u001b[0m\n\u001b[1;32m     19\u001b[0m \u001b[0;34m\u001b[0m\u001b[0m\n\u001b[1;32m     20\u001b[0m     \u001b[0;31m# add a 5 second pause loading each URL\u001b[0m\u001b[0;34m\u001b[0m\u001b[0;34m\u001b[0m\u001b[0;34m\u001b[0m\u001b[0m\n\u001b[0;32m---> 21\u001b[0;31m     \u001b[0msleep\u001b[0m\u001b[0;34m(\u001b[0m\u001b[0;36m5\u001b[0m\u001b[0;34m)\u001b[0m\u001b[0;34m\u001b[0m\u001b[0;34m\u001b[0m\u001b[0m\n\u001b[0m\u001b[1;32m     22\u001b[0m \u001b[0;34m\u001b[0m\u001b[0m\n\u001b[1;32m     23\u001b[0m     \u001b[0;31m# assigning the source code for the webpage to variable sel\u001b[0m\u001b[0;34m\u001b[0m\u001b[0;34m\u001b[0m\u001b[0;34m\u001b[0m\u001b[0m\n",
            "\u001b[0;31mKeyboardInterrupt\u001b[0m: "
          ]
        }
      ]
    }
  ]
}